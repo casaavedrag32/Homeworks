{
 "cells": [
  {
   "cell_type": "markdown",
   "id": "83387d06",
   "metadata": {},
   "source": [
    "## Webscrapping\n"
   ]
  },
  {
   "cell_type": "markdown",
   "id": "004e9a88",
   "metadata": {},
   "source": [
    "### Parte 1"
   ]
  },
  {
   "cell_type": "code",
   "execution_count": 2,
   "id": "9947ddb5",
   "metadata": {},
   "outputs": [
    {
     "name": "stdout",
     "output_type": "stream",
     "text": [
      "Requirement already satisfied: selenium in c:\\users\\lenovo\\anaconda3\\envs\\yelp_scraper\\lib\\site-packages (4.23.1)\n",
      "Requirement already satisfied: pandas in c:\\users\\lenovo\\anaconda3\\envs\\yelp_scraper\\lib\\site-packages (2.2.2)\n",
      "Requirement already satisfied: yfinance in c:\\users\\lenovo\\anaconda3\\envs\\yelp_scraper\\lib\\site-packages (0.2.65)\n",
      "Requirement already satisfied: matplotlib in c:\\users\\lenovo\\anaconda3\\envs\\yelp_scraper\\lib\\site-packages (3.10.5)\n",
      "Requirement already satisfied: seaborn in c:\\users\\lenovo\\anaconda3\\envs\\yelp_scraper\\lib\\site-packages (0.13.2)\n",
      "Requirement already satisfied: beautifulsoup4 in c:\\users\\lenovo\\anaconda3\\envs\\yelp_scraper\\lib\\site-packages (4.13.4)\n",
      "Requirement already satisfied: urllib3<3,>=1.26 in c:\\users\\lenovo\\anaconda3\\envs\\yelp_scraper\\lib\\site-packages (from urllib3[socks]<3,>=1.26->selenium) (2.5.0)\n",
      "Requirement already satisfied: trio~=0.17 in c:\\users\\lenovo\\anaconda3\\envs\\yelp_scraper\\lib\\site-packages (from selenium) (0.30.0)\n",
      "Requirement already satisfied: trio-websocket~=0.9 in c:\\users\\lenovo\\anaconda3\\envs\\yelp_scraper\\lib\\site-packages (from selenium) (0.12.2)\n",
      "Requirement already satisfied: certifi>=2021.10.8 in c:\\users\\lenovo\\anaconda3\\envs\\yelp_scraper\\lib\\site-packages (from selenium) (2025.8.3)\n",
      "Requirement already satisfied: typing_extensions~=4.9 in c:\\users\\lenovo\\anaconda3\\envs\\yelp_scraper\\lib\\site-packages (from selenium) (4.14.1)\n",
      "Requirement already satisfied: websocket-client~=1.8 in c:\\users\\lenovo\\anaconda3\\envs\\yelp_scraper\\lib\\site-packages (from selenium) (1.8.0)\n",
      "Requirement already satisfied: attrs>=23.2.0 in c:\\users\\lenovo\\anaconda3\\envs\\yelp_scraper\\lib\\site-packages (from trio~=0.17->selenium) (25.3.0)\n",
      "Requirement already satisfied: sortedcontainers in c:\\users\\lenovo\\anaconda3\\envs\\yelp_scraper\\lib\\site-packages (from trio~=0.17->selenium) (2.4.0)\n",
      "Requirement already satisfied: idna in c:\\users\\lenovo\\anaconda3\\envs\\yelp_scraper\\lib\\site-packages (from trio~=0.17->selenium) (3.10)\n",
      "Requirement already satisfied: outcome in c:\\users\\lenovo\\anaconda3\\envs\\yelp_scraper\\lib\\site-packages (from trio~=0.17->selenium) (1.3.0.post0)\n",
      "Requirement already satisfied: sniffio>=1.3.0 in c:\\users\\lenovo\\anaconda3\\envs\\yelp_scraper\\lib\\site-packages (from trio~=0.17->selenium) (1.3.1)\n",
      "Requirement already satisfied: cffi>=1.14 in c:\\users\\lenovo\\anaconda3\\envs\\yelp_scraper\\lib\\site-packages (from trio~=0.17->selenium) (1.17.1)\n",
      "Requirement already satisfied: exceptiongroup in c:\\users\\lenovo\\anaconda3\\envs\\yelp_scraper\\lib\\site-packages (from trio~=0.17->selenium) (1.3.0)\n",
      "Requirement already satisfied: wsproto>=0.14 in c:\\users\\lenovo\\anaconda3\\envs\\yelp_scraper\\lib\\site-packages (from trio-websocket~=0.9->selenium) (1.2.0)\n",
      "Requirement already satisfied: pysocks!=1.5.7,<2.0,>=1.5.6 in c:\\users\\lenovo\\anaconda3\\envs\\yelp_scraper\\lib\\site-packages (from urllib3[socks]<3,>=1.26->selenium) (1.7.1)\n",
      "Requirement already satisfied: numpy>=1.22.4 in c:\\users\\lenovo\\anaconda3\\envs\\yelp_scraper\\lib\\site-packages (from pandas) (2.2.6)\n",
      "Requirement already satisfied: python-dateutil>=2.8.2 in c:\\users\\lenovo\\anaconda3\\envs\\yelp_scraper\\lib\\site-packages (from pandas) (2.9.0.post0)\n",
      "Requirement already satisfied: pytz>=2020.1 in c:\\users\\lenovo\\anaconda3\\envs\\yelp_scraper\\lib\\site-packages (from pandas) (2025.2)\n",
      "Requirement already satisfied: tzdata>=2022.7 in c:\\users\\lenovo\\anaconda3\\envs\\yelp_scraper\\lib\\site-packages (from pandas) (2025.2)\n",
      "Requirement already satisfied: requests>=2.31 in c:\\users\\lenovo\\anaconda3\\envs\\yelp_scraper\\lib\\site-packages (from yfinance) (2.32.5)\n",
      "Requirement already satisfied: multitasking>=0.0.7 in c:\\users\\lenovo\\anaconda3\\envs\\yelp_scraper\\lib\\site-packages (from yfinance) (0.0.12)\n",
      "Requirement already satisfied: platformdirs>=2.0.0 in c:\\users\\lenovo\\anaconda3\\envs\\yelp_scraper\\lib\\site-packages (from yfinance) (4.3.8)\n",
      "Requirement already satisfied: frozendict>=2.3.4 in c:\\users\\lenovo\\anaconda3\\envs\\yelp_scraper\\lib\\site-packages (from yfinance) (2.4.6)\n",
      "Requirement already satisfied: peewee>=3.16.2 in c:\\users\\lenovo\\anaconda3\\envs\\yelp_scraper\\lib\\site-packages (from yfinance) (3.18.2)\n",
      "Requirement already satisfied: curl_cffi>=0.7 in c:\\users\\lenovo\\anaconda3\\envs\\yelp_scraper\\lib\\site-packages (from yfinance) (0.13.0)\n",
      "Requirement already satisfied: protobuf>=3.19.0 in c:\\users\\lenovo\\anaconda3\\envs\\yelp_scraper\\lib\\site-packages (from yfinance) (6.32.0)\n",
      "Requirement already satisfied: websockets>=13.0 in c:\\users\\lenovo\\anaconda3\\envs\\yelp_scraper\\lib\\site-packages (from yfinance) (15.0.1)\n",
      "Requirement already satisfied: contourpy>=1.0.1 in c:\\users\\lenovo\\anaconda3\\envs\\yelp_scraper\\lib\\site-packages (from matplotlib) (1.3.2)\n",
      "Requirement already satisfied: cycler>=0.10 in c:\\users\\lenovo\\anaconda3\\envs\\yelp_scraper\\lib\\site-packages (from matplotlib) (0.12.1)\n",
      "Requirement already satisfied: fonttools>=4.22.0 in c:\\users\\lenovo\\anaconda3\\envs\\yelp_scraper\\lib\\site-packages (from matplotlib) (4.59.2)\n",
      "Requirement already satisfied: kiwisolver>=1.3.1 in c:\\users\\lenovo\\anaconda3\\envs\\yelp_scraper\\lib\\site-packages (from matplotlib) (1.4.9)\n",
      "Requirement already satisfied: packaging>=20.0 in c:\\users\\lenovo\\anaconda3\\envs\\yelp_scraper\\lib\\site-packages (from matplotlib) (25.0)\n",
      "Requirement already satisfied: pillow>=8 in c:\\users\\lenovo\\anaconda3\\envs\\yelp_scraper\\lib\\site-packages (from matplotlib) (11.3.0)\n",
      "Requirement already satisfied: pyparsing>=2.3.1 in c:\\users\\lenovo\\anaconda3\\envs\\yelp_scraper\\lib\\site-packages (from matplotlib) (3.2.3)\n",
      "Requirement already satisfied: soupsieve>1.2 in c:\\users\\lenovo\\anaconda3\\envs\\yelp_scraper\\lib\\site-packages (from beautifulsoup4) (2.7)\n",
      "Requirement already satisfied: pycparser in c:\\users\\lenovo\\anaconda3\\envs\\yelp_scraper\\lib\\site-packages (from cffi>=1.14->trio~=0.17->selenium) (2.22)\n",
      "Requirement already satisfied: six>=1.5 in c:\\users\\lenovo\\anaconda3\\envs\\yelp_scraper\\lib\\site-packages (from python-dateutil>=2.8.2->pandas) (1.17.0)\n",
      "Requirement already satisfied: charset_normalizer<4,>=2 in c:\\users\\lenovo\\anaconda3\\envs\\yelp_scraper\\lib\\site-packages (from requests>=2.31->yfinance) (3.4.3)\n",
      "Requirement already satisfied: h11<1,>=0.9.0 in c:\\users\\lenovo\\anaconda3\\envs\\yelp_scraper\\lib\\site-packages (from wsproto>=0.14->trio-websocket~=0.9->selenium) (0.16.0)\n",
      "Note: you may need to restart the kernel to use updated packages.\n"
     ]
    }
   ],
   "source": [
    "pip install selenium pandas yfinance matplotlib seaborn beautifulsoup4"
   ]
  },
  {
   "cell_type": "code",
   "execution_count": 3,
   "id": "b39ac5b8",
   "metadata": {},
   "outputs": [],
   "source": [
    "import pandas as pd\n",
    "import yfinance as yf\n",
    "import numpy as np\n",
    "import time\n",
    "\n",
    "from selenium import webdriver\n",
    "from selenium.webdriver.common.by import By\n",
    "from selenium.webdriver.chrome.options import Options\n",
    "from selenium.webdriver.support.ui import WebDriverWait\n",
    "from selenium.webdriver.support import expected_conditions as EC\n",
    "from selenium.common.exceptions import NoSuchElementException, TimeoutException"
   ]
  },
  {
   "cell_type": "code",
   "execution_count": 4,
   "id": "5465e5ce",
   "metadata": {},
   "outputs": [
    {
     "name": "stdout",
     "output_type": "stream",
     "text": [
      "Todo bien\n"
     ]
    }
   ],
   "source": [
    "chrome_options = Options()\n",
    "chrome_options.add_argument(\"--start-maximized\")\n",
    "chrome_options.add_argument(\"--lang=en-US\")\n",
    "\n",
    "driver = webdriver.Chrome(chrome_options)\n",
    "print(\"Todo bien\")"
   ]
  },
  {
   "cell_type": "code",
   "execution_count": 5,
   "id": "5b40119a",
   "metadata": {},
   "outputs": [
    {
     "name": "stdout",
     "output_type": "stream",
     "text": [
      "Esperando\n",
      "Tabla encontrada\n"
     ]
    }
   ],
   "source": [
    "url = \"https://finance.yahoo.com/markets/stocks/gainers\"\n",
    "\n",
    "driver.get(url)\n",
    "\n",
    "stocks_data = []\n",
    "\n",
    "table = \"table.yf-7uw1qi.bd\"\n",
    "\n",
    "try:\n",
    "    print(\"Esperando\")\n",
    "    WebDriverWait(driver, 10).until(\n",
    "        EC.visibility_of_element_located(( By.CSS_SELECTOR, table))\n",
    "    )\n",
    "    print(\"Tabla encontrada\")\n",
    "except TimeoutException:\n",
    "    print(\"La página aún no carga\")\n",
    "    driver.quit()"
   ]
  },
  {
   "cell_type": "code",
   "execution_count": 6,
   "id": "890e7a32",
   "metadata": {},
   "outputs": [
    {
     "name": "stdout",
     "output_type": "stream",
     "text": [
      "Se encontraron 25 filas en esta página\n",
      "AMBA | Ambarella, Inc.\n",
      "IREN | IREN Limited\n",
      "BABA | Alibaba Group Holding Limited\n",
      "AFRM | Affirm Holdings, Inc.\n",
      "DOOO | BRP Inc.\n",
      "ADSK | Autodesk, Inc.\n",
      "CIFR | Cipher Mining Inc.\n",
      "SATS | EchoStar Corporation\n",
      "S | SentinelOne, Inc.\n",
      "EQX | Equinox Gold Corp.\n",
      "NXE | NexGen Energy Ltd.\n",
      "MIAX | Miami International Holdings, Inc.\n",
      "NG | NovaGold Resources Inc.\n",
      "PRVA | Privia Health Group, Inc.\n",
      "SSRM | SSR Mining Inc.\n",
      "HL | Hecla Mining Company\n",
      "CELH | Celsius Holdings, Inc.\n",
      "HMY | Harmony Gold Mining Company Limited\n",
      "OS | OneStream, Inc.\n",
      "CNXC | Concentrix Corporation\n",
      "BIDU | Baidu, Inc.\n",
      "CDE | Coeur Mining, Inc.\n",
      "JOYY | JOYY Inc.\n",
      "GH | Guardant Health, Inc.\n",
      "BTDR | Bitdeer Technologies Group\n",
      "Se encontraron 25 filas en esta página\n",
      "COO | The Cooper Companies, Inc.\n",
      "GFI | Gold Fields Limited\n",
      "GSAT | Globalstar, Inc.\n",
      "SBSW | Sibanye Stillwater Limited\n",
      "IAG | IAMGOLD Corporation\n",
      "SOUN | SoundHound AI, Inc.\n",
      "HCC | Warrior Met Coal, Inc.\n",
      "NGD | New Gold Inc.\n",
      "BHC | Bausch Health Companies Inc.\n",
      "BILI | Bilibili Inc.\n",
      "AEM | Agnico Eagle Mines Limited\n",
      "SJM | The J. M. Smucker Company\n",
      "BF-A | Brown-Forman Corporation\n",
      "OLN | Olin Corporation\n",
      "MOH | Molina Healthcare, Inc.\n",
      "KGC | Kinross Gold Corporation\n",
      "FSM | Fortuna Mining Corp.\n",
      "BF-B | Brown-Forman Corporation\n",
      "BTU | Peabody Energy Corporation\n",
      "HP | Helmerich & Payne, Inc.\n",
      "WPM | Wheaton Precious Metals Corp.\n",
      "UPWK | Upwork Inc.\n",
      "EMN | Eastman Chemical Company\n",
      "SNDK | Sandisk Corporation\n",
      "TD | The Toronto-Dominion Bank\n",
      "Se encontraron 2 filas en esta página\n",
      "CMBT | Cmb.Tech NV\n",
      "PAAS | Pan American Silver Corp.\n",
      "Ya no hay más páginas, fin del scraping.\n"
     ]
    }
   ],
   "source": [
    "row_selector = \"tr.row.yf-7uw1qi\"\n",
    "\n",
    "while True:\n",
    "    rows = driver.find_elements(By.CSS_SELECTOR, row_selector)\n",
    "    print(f\"Se encontraron {len(rows)} filas en esta página\")\n",
    "\n",
    "    for row in rows:\n",
    "        try:\n",
    "            symbol = row.find_element(By.CSS_SELECTOR, \"span.symbol.yf-90gdtp\").text\n",
    "            name = row.find_element(By.CSS_SELECTOR, \"div.companyName\").text\n",
    "\n",
    "            stocks_data.append({\n",
    "                \"Simbolo\": symbol,\n",
    "                \"Nombre\": name\n",
    "            })\n",
    "            print(f\"{symbol} | {name}\")\n",
    "        except Exception as e:\n",
    "            print(f\"Error en la fila: {e}\")\n",
    "\n",
    "    try:\n",
    "        pasopagina = driver.find_element( By.XPATH, '/html/body/div[2]/main/section/section/section/section/section[1]/div/div[3]/div[3]/button[3]')\n",
    "                \n",
    "        if not pasopagina.is_enabled():\n",
    "            print(\"Ya no hay más páginas, fin del scraping.\")\n",
    "            break\n",
    "\n",
    "        pasopagina.click()\n",
    "        time.sleep(5)\n",
    "\n",
    "    except Exception as e:\n",
    "        print(\"No se encontró el botón de siguiente. Fin del scraping.\")\n",
    "        break\n"
   ]
  },
  {
   "cell_type": "markdown",
   "id": "979c0c22",
   "metadata": {},
   "source": [
    "### Parte 2"
   ]
  },
  {
   "cell_type": "code",
   "execution_count": 7,
   "id": "22b5454e",
   "metadata": {},
   "outputs": [
    {
     "name": "stderr",
     "output_type": "stream",
     "text": [
      "[*********************100%***********************]  52 of 52 completed"
     ]
    },
    {
     "name": "stdout",
     "output_type": "stream",
     "text": [
      "Ticker            ADSK        AEM       AFRM       AMBA        BABA  \\\n",
      "Date                                                                  \n",
      "2024-09-01  275.480011  79.566811  40.820000  56.410000  104.356186   \n",
      "2024-10-01  283.799988  85.226173  43.849998  56.189999   96.351486   \n",
      "2024-11-01  291.899994  83.379227  70.010002  71.550003   85.917831   \n",
      "2024-12-01  295.570007  77.617378  60.900002  72.739998   83.380714   \n",
      "2025-01-01  311.339996  92.235771  61.070000  76.720001   97.197182   \n",
      "\n",
      "Ticker           BF-A       BF-B   BHC        BIDU       BILI  ...          S  \\\n",
      "Date                                                           ...              \n",
      "2024-09-01  46.925602  48.019775  8.16  105.290001  23.379999  ...  23.920000   \n",
      "2024-10-01  42.737293  43.180275  9.20   91.230003  22.120001  ...  25.790001   \n",
      "2024-11-01  40.560219  41.267910  8.37   85.050003  19.170000  ...  27.950001   \n",
      "2024-12-01  36.961182  37.247028  8.06   84.309998  18.110001  ...  22.200001   \n",
      "2025-01-01  32.840946  32.535694  7.43   90.599998  16.719999  ...  23.950001   \n",
      "\n",
      "Ticker           SATS  SBSW         SJM  SNDK   SOUN  SSRM         TD  \\\n",
      "Date                                                                    \n",
      "2024-09-01  24.820000  4.11  116.389420   NaN   4.66  5.68  60.254768   \n",
      "2024-10-01  25.059999  4.67  109.094658   NaN   5.03  6.17  52.644341   \n",
      "2024-11-01  25.290001  4.09  113.208183   NaN   9.31  5.81  54.482731   \n",
      "2024-12-01  22.900000  3.30  106.878769   NaN  19.84  6.96  51.311886   \n",
      "2025-01-01  27.660000  3.81  103.743843   NaN  14.15  8.03  55.003178   \n",
      "\n",
      "Ticker           UPWK        WPM  \n",
      "Date                              \n",
      "2024-09-01  10.450000  60.682819  \n",
      "2024-10-01  13.560000  65.580757  \n",
      "2024-11-01  16.969999  61.924690  \n",
      "2024-12-01  16.350000  56.012188  \n",
      "2025-01-01  15.760000  62.216953  \n",
      "\n",
      "[5 rows x 52 columns]\n"
     ]
    },
    {
     "name": "stderr",
     "output_type": "stream",
     "text": [
      "\n"
     ]
    }
   ],
   "source": [
    "symbols = [stock[\"Simbolo\"] for stock in stocks_data]\n",
    "\n",
    "historical_data = yf.download( tickers=symbols, period=\"1y\", interval=\"1mo\", auto_adjust= False)\n",
    "\n",
    "adjclose = historical_data[\"Adj Close\"]\n",
    "\n",
    "print(adjclose.head())"
   ]
  },
  {
   "cell_type": "markdown",
   "id": "5a299cac",
   "metadata": {},
   "source": [
    "### Parte 3"
   ]
  },
  {
   "cell_type": "code",
   "execution_count": 8,
   "id": "28702294",
   "metadata": {},
   "outputs": [
    {
     "name": "stdout",
     "output_type": "stream",
     "text": [
      "Top 10 seleccionadas: ['SOUN', 'GH', 'SSRM', 'BTDR', 'AFRM', 'UPWK', 'PRVA', 'JOYY', 'SATS', 'BABA']\n",
      "\n",
      "Retornos mensuales (últimos 6 meses):\n",
      "Ticker          SOUN        GH      SSRM      BTDR      AFRM      UPWK  \\\n",
      "Date                                                                     \n",
      "2025-04-01  0.144089  0.108685  0.060818  0.083805  0.101129  0.007663   \n",
      "2025-05-01  0.088267 -0.139953  0.111842  0.343783  0.043006  0.177947   \n",
      "2025-06-01  0.061325  0.281142  0.076923 -0.107309  0.332177 -0.132343   \n",
      "2025-07-01 -0.037279 -0.212529 -0.062009  0.122822 -0.008389 -0.110119   \n",
      "2025-08-01  0.260407  0.645193  0.615900  0.108611  0.290105  0.286789   \n",
      "\n",
      "Ticker          PRVA      JOYY      SATS      BABA  \n",
      "Date                                                \n",
      "2025-04-01  0.045880 -0.019533 -0.121188 -0.096801  \n",
      "2025-05-01 -0.030664  0.190772 -0.211299 -0.046806  \n",
      "2025-06-01  0.010545  0.063283  0.562324 -0.003777  \n",
      "2025-07-01 -0.151304  0.005009  0.176534  0.081641  \n",
      "2025-08-01  0.180328  0.076892  0.895980  0.119125  \n",
      "\n",
      "Rendimiento mensual del portafolio (últimos 6 meses):\n",
      "Date\n",
      "2025-04-01    0.031455\n",
      "2025-05-01    0.052689\n",
      "2025-06-01    0.114429\n",
      "2025-07-01   -0.019562\n",
      "2025-08-01    0.347933\n",
      "dtype: float64\n"
     ]
    }
   ],
   "source": [
    "f_6m = adjclose.iloc[:6]\n",
    "l_6m = adjclose.iloc[6:]\n",
    "\n",
    "cum_returns = (f_6m.iloc[-1] / f_6m.iloc[0]) - 1\n",
    "\n",
    "top10_symbols = cum_returns.sort_values(ascending=False).head(10).index.tolist()\n",
    "print(\"Top 10 seleccionadas:\", top10_symbols)\n",
    "\n",
    "monthly_returns = adjclose[top10_symbols].pct_change(fill_method=None).dropna()\n",
    "\n",
    "l6_returns = monthly_returns.iloc[6:]\n",
    "\n",
    "print(\"\\nRetornos mensuales (últimos 6 meses):\")\n",
    "print(l6_returns)\n",
    "\n",
    "weights = np.repeat(1/10, 10) \n",
    "\n",
    "portfolio_returns = l6_returns.dot(weights)\n",
    "\n",
    "print(\"\\nRendimiento mensual del portafolio (últimos 6 meses):\")\n",
    "print(portfolio_returns)\n",
    "\n",
    "portfolio_returns.to_csv(\"salida/portfolio_returns.csv\")"
   ]
  }
 ],
 "metadata": {
  "kernelspec": {
   "display_name": "yelp_scraper",
   "language": "python",
   "name": "python3"
  },
  "language_info": {
   "codemirror_mode": {
    "name": "ipython",
    "version": 3
   },
   "file_extension": ".py",
   "mimetype": "text/x-python",
   "name": "python",
   "nbconvert_exporter": "python",
   "pygments_lexer": "ipython3",
   "version": "3.10.18"
  }
 },
 "nbformat": 4,
 "nbformat_minor": 5
}
