{
 "cells": [
  {
   "cell_type": "code",
   "execution_count": null,
   "id": "608eff96-4683-4d18-b211-2bc6bee83e77",
   "metadata": {},
   "outputs": [
    {
     "name": "stdout",
     "output_type": "stream",
     "text": [
      "Collecting prawNote: you may need to restart the kernel to use updated packages.\n",
      "\n",
      "  Using cached praw-7.8.1-py3-none-any.whl.metadata (9.4 kB)\n",
      "Requirement already satisfied: pandas in c:\\users\\atara\\anaconda3\\lib\\site-packages (2.2.3)\n",
      "Collecting prawcore<3,>=2.4 (from praw)\n",
      "  Using cached prawcore-2.4.0-py3-none-any.whl.metadata (5.0 kB)\n",
      "Collecting update_checker>=0.18 (from praw)\n",
      "  Using cached update_checker-0.18.0-py3-none-any.whl.metadata (2.3 kB)\n",
      "Requirement already satisfied: websocket-client>=0.54.0 in c:\\users\\atara\\anaconda3\\lib\\site-packages (from praw) (1.8.0)\n",
      "Requirement already satisfied: requests<3.0,>=2.6.0 in c:\\users\\atara\\anaconda3\\lib\\site-packages (from prawcore<3,>=2.4->praw) (2.32.3)\n",
      "Requirement already satisfied: charset-normalizer<4,>=2 in c:\\users\\atara\\anaconda3\\lib\\site-packages (from requests<3.0,>=2.6.0->prawcore<3,>=2.4->praw) (3.3.2)\n",
      "Requirement already satisfied: idna<4,>=2.5 in c:\\users\\atara\\anaconda3\\lib\\site-packages (from requests<3.0,>=2.6.0->prawcore<3,>=2.4->praw) (3.7)\n",
      "Requirement already satisfied: urllib3<3,>=1.21.1 in c:\\users\\atara\\anaconda3\\lib\\site-packages (from requests<3.0,>=2.6.0->prawcore<3,>=2.4->praw) (2.3.0)\n",
      "Requirement already satisfied: certifi>=2017.4.17 in c:\\users\\atara\\anaconda3\\lib\\site-packages (from requests<3.0,>=2.6.0->prawcore<3,>=2.4->praw) (2025.8.3)\n",
      "Requirement already satisfied: numpy>=1.26.0 in c:\\users\\atara\\anaconda3\\lib\\site-packages (from pandas) (2.1.3)\n",
      "Requirement already satisfied: python-dateutil>=2.8.2 in c:\\users\\atara\\anaconda3\\lib\\site-packages (from pandas) (2.9.0.post0)\n",
      "Requirement already satisfied: pytz>=2020.1 in c:\\users\\atara\\anaconda3\\lib\\site-packages (from pandas) (2024.1)\n",
      "Requirement already satisfied: tzdata>=2022.7 in c:\\users\\atara\\anaconda3\\lib\\site-packages (from pandas) (2025.2)\n",
      "Requirement already satisfied: six>=1.5 in c:\\users\\atara\\anaconda3\\lib\\site-packages (from python-dateutil>=2.8.2->pandas) (1.17.0)\n",
      "Using cached praw-7.8.1-py3-none-any.whl (189 kB)\n",
      "Using cached prawcore-2.4.0-py3-none-any.whl (17 kB)\n",
      "Using cached update_checker-0.18.0-py3-none-any.whl (7.0 kB)\n",
      "Installing collected packages: update_checker, prawcore, praw\n",
      "\n",
      "   ------------- -------------------------- 1/3 [prawcore]\n",
      "   -------------------------- ------------- 2/3 [praw]\n",
      "   -------------------------- ------------- 2/3 [praw]\n",
      "   -------------------------- ------------- 2/3 [praw]\n",
      "   -------------------------- ------------- 2/3 [praw]\n",
      "   -------------------------- ------------- 2/3 [praw]\n",
      "   -------------------------- ------------- 2/3 [praw]\n",
      "   -------------------------- ------------- 2/3 [praw]\n",
      "   -------------------------- ------------- 2/3 [praw]\n",
      "   -------------------------- ------------- 2/3 [praw]\n",
      "   -------------------------- ------------- 2/3 [praw]\n",
      "   ---------------------------------------- 3/3 [praw]\n",
      "\n",
      "Successfully installed praw-7.8.1 prawcore-2.4.0 update_checker-0.18.0\n"
     ]
    }
   ],
   "source": [
    "#1. Pregunta 2: \n",
    "pip install praw pandas"
   ]
  },
  {
   "cell_type": "code",
   "execution_count": 2,
   "id": "00b328ac-88f1-4f25-b4ba-91023e83f879",
   "metadata": {},
   "outputs": [],
   "source": [
    "import praw\n",
    "import pandas as pd\n",
    "import os "
   ]
  },
  {
   "cell_type": "code",
   "execution_count": 6,
   "id": "d50cd940-a78e-469e-a4be-8a53b4cd1320",
   "metadata": {},
   "outputs": [
    {
     "name": "stdout",
     "output_type": "stream",
     "text": [
      "Credenciales importadas\n"
     ]
    }
   ],
   "source": [
    "reddit = praw.Reddit(\n",
    "    client_id=\"Q7jAlpVTOrJbTWxsDpq3vA\",\n",
    "    client_secret=\"7j20MtQJ4Ka0CP87GmblSyK61ZvR2w\",\n",
    "    user_agent=\"PoliticalSentimentAnalyzer by u/Pretend-Celery6318\",\n",
    "    username=\"Pretend-Celery6318\",\n",
    "    password=\"Gomita240603\"\n",
    ")\n",
    "print(\"Credenciales importadas\")"
   ]
  },
  {
   "cell_type": "code",
   "execution_count": null,
   "id": "a1119696-6bd3-4f07-9a12-f1e892e9f1f1",
   "metadata": {},
   "outputs": [
    {
     "name": "stdout",
     "output_type": "stream",
     "text": [
      "  subreddit       id                                              title  \\\n",
      "0  politics  1n43su4          Saturday Morning Political Cartoon Thread   \n",
      "1  politics  1n4u384        Trump, 79, Goes on Bizarre AI Posting Spree   \n",
      "2  politics  1n4uee7  Mike Johnson Totally Deflects When Asked About...   \n",
      "3  politics  1n4stub  Bernie Sanders endorses popular oyster farmer ...   \n",
      "4  politics  1n4svh5  Newsom Trolls Trump Over Bruised Hands and Gol...   \n",
      "\n",
      "   score  num_comments                                                url  \n",
      "0     35            64  https://www.reddit.com/r/politics/comments/1n4...  \n",
      "1  10714           838  https://www.thedailybeast.com/trump-79-goes-on...  \n",
      "2   4892           140  https://newrepublic.com/post/199857/mike-johns...  \n",
      "3   3667           202  https://www.independent.co.uk/news/world/ameri...  \n",
      "4   2740           161  https://www.thedailybeast.com/newsom-trolls-tr...  \n",
      "Se guardaron los subreddits correctamente\n"
     ]
    }
   ],
   "source": [
    "# Subreddits de interés\n",
    "subreddits = [\"politics\", \"PoliticalDiscussion\", \"worldnews\"]\n",
    "posts_data = []\n",
    "\n",
    "for i in subreddits:\n",
    "    subreddit = reddit.subreddit(i)\n",
    "    for post in subreddit.hot(limit=20):\n",
    "        posts_data.append({\n",
    "            \"subreddit\": i,\n",
    "            \"id\": post.id,\n",
    "            \"title\": post.title,\n",
    "            \"score\": post.score,\n",
    "            \"num_comments\": post.num_comments,\n",
    "            \"url\": post.url\n",
    "        })\n",
    "\n",
    "os.makedirs(\"salida\", exist_ok=True)\n",
    "df_posts = pd.DataFrame(posts_data)\n",
    "df_posts.to_excel(\"salida/posts_redit.xlsx\", index=False)\n",
    "print(df_posts.head())\n",
    "print(\"Se guardaron los subreddits correctamente\")"
   ]
  },
  {
   "cell_type": "code",
   "execution_count": null,
   "id": "1d4f5087-f836-4ba4-805b-c347b257d82b",
   "metadata": {},
   "outputs": [
    {
     "name": "stdout",
     "output_type": "stream",
     "text": [
      "Se guardaron los comentarios correctamente\n"
     ]
    }
   ],
   "source": [
    "comments_data = []\n",
    "\n",
    "#Comentarios\n",
    "for post_id in df_posts[\"id\"].head(10):\n",
    "    submission = reddit.submission(id=post_id)\n",
    "    submission.comments.replace_more(limit=0)\n",
    "\n",
    "    for comment in submission.comments[:5]:\n",
    "        comments_data.append({\n",
    "            \"id\": post_id,\n",
    "            \"comment_id\": comment.id,\n",
    "            \"body\": comment.body,\n",
    "            \"score\": comment.score\n",
    "        })\n",
    "\n",
    "df_comments = pd.DataFrame(comments_data)\n",
    "df_comments.to_excel(\"salida/comentarios_redit.xlsx\", index=False)\n",
    "\n",
    "df_comments.head()\n",
    "print(\"Se guardaron los comentarios correctamente\")\n"
   ]
  },
  {
   "cell_type": "code",
   "execution_count": null,
   "id": "e38c868c-4a26-42f6-bfad-3093d52d50c8",
   "metadata": {},
   "outputs": [],
   "source": []
  }
 ],
 "metadata": {
  "kernelspec": {
   "display_name": "base",
   "language": "python",
   "name": "python3"
  },
  "language_info": {
   "codemirror_mode": {
    "name": "ipython",
    "version": 3
   },
   "file_extension": ".py",
   "mimetype": "text/x-python",
   "name": "python",
   "nbconvert_exporter": "python",
   "pygments_lexer": "ipython3",
   "version": "3.13.5"
  }
 },
 "nbformat": 4,
 "nbformat_minor": 5
}
