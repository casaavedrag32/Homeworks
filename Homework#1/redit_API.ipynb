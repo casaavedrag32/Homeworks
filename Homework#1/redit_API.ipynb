{
 "cells": [
  {
   "cell_type": "code",
   "execution_count": 18,
   "id": "608eff96-4683-4d18-b211-2bc6bee83e77",
   "metadata": {},
   "outputs": [
    {
     "name": "stdout",
     "output_type": "stream",
     "text": [
      "Requirement already satisfied: praw in c:\\users\\atara\\anaconda3\\envs\\yelp_scraper\\lib\\site-packages (7.8.1)\n",
      "Requirement already satisfied: pandas in c:\\users\\atara\\anaconda3\\envs\\yelp_scraper\\lib\\site-packages (2.2.2)\n",
      "Requirement already satisfied: prawcore<3,>=2.4 in c:\\users\\atara\\anaconda3\\envs\\yelp_scraper\\lib\\site-packages (from praw) (2.4.0)\n",
      "Requirement already satisfied: update_checker>=0.18 in c:\\users\\atara\\anaconda3\\envs\\yelp_scraper\\lib\\site-packages (from praw) (0.18.0)\n",
      "Requirement already satisfied: websocket-client>=0.54.0 in c:\\users\\atara\\anaconda3\\envs\\yelp_scraper\\lib\\site-packages (from praw) (1.8.0)\n",
      "Requirement already satisfied: requests<3.0,>=2.6.0 in c:\\users\\atara\\anaconda3\\envs\\yelp_scraper\\lib\\site-packages (from prawcore<3,>=2.4->praw) (2.32.5)\n",
      "Requirement already satisfied: charset_normalizer<4,>=2 in c:\\users\\atara\\anaconda3\\envs\\yelp_scraper\\lib\\site-packages (from requests<3.0,>=2.6.0->prawcore<3,>=2.4->praw) (3.4.3)\n",
      "Requirement already satisfied: idna<4,>=2.5 in c:\\users\\atara\\anaconda3\\envs\\yelp_scraper\\lib\\site-packages (from requests<3.0,>=2.6.0->prawcore<3,>=2.4->praw) (3.10)\n",
      "Requirement already satisfied: urllib3<3,>=1.21.1 in c:\\users\\atara\\anaconda3\\envs\\yelp_scraper\\lib\\site-packages (from requests<3.0,>=2.6.0->prawcore<3,>=2.4->praw) (2.5.0)\n",
      "Requirement already satisfied: certifi>=2017.4.17 in c:\\users\\atara\\anaconda3\\envs\\yelp_scraper\\lib\\site-packages (from requests<3.0,>=2.6.0->prawcore<3,>=2.4->praw) (2025.8.3)\n",
      "Requirement already satisfied: numpy>=1.22.4 in c:\\users\\atara\\anaconda3\\envs\\yelp_scraper\\lib\\site-packages (from pandas) (2.2.6)\n",
      "Requirement already satisfied: python-dateutil>=2.8.2 in c:\\users\\atara\\anaconda3\\envs\\yelp_scraper\\lib\\site-packages (from pandas) (2.9.0.post0)\n",
      "Requirement already satisfied: pytz>=2020.1 in c:\\users\\atara\\anaconda3\\envs\\yelp_scraper\\lib\\site-packages (from pandas) (2025.2)\n",
      "Requirement already satisfied: tzdata>=2022.7 in c:\\users\\atara\\anaconda3\\envs\\yelp_scraper\\lib\\site-packages (from pandas) (2025.2)\n",
      "Requirement already satisfied: six>=1.5 in c:\\users\\atara\\anaconda3\\envs\\yelp_scraper\\lib\\site-packages (from python-dateutil>=2.8.2->pandas) (1.17.0)\n",
      "Note: you may need to restart the kernel to use updated packages.\n"
     ]
    }
   ],
   "source": [
    "#pip install praw pandas"
   ]
  },
  {
   "cell_type": "code",
   "execution_count": 25,
   "id": "00b328ac-88f1-4f25-b4ba-91023e83f879",
   "metadata": {},
   "outputs": [],
   "source": [
    "import praw\n",
    "import pandas as pd\n",
    "import os "
   ]
  },
  {
   "cell_type": "code",
   "execution_count": 26,
   "id": "d50cd940-a78e-469e-a4be-8a53b4cd1320",
   "metadata": {},
   "outputs": [
    {
     "name": "stdout",
     "output_type": "stream",
     "text": [
      "Credenciales importadas\n"
     ]
    }
   ],
   "source": [
    "reddit = praw.Reddit(\n",
    "    client_id=\"Q7jAlpVTOrJbTWxsDpq3vA\",\n",
    "    client_secret=\"7j20MtQJ4Ka0CP87GmblSyK61ZvR2w\",\n",
    "    user_agent=\"PoliticalSentimentAnalyzer by u/Pretend-Celery6318\",\n",
    "    username=\"Pretend-Celery6318\",\n",
    "    password=\"Gomita240603\"\n",
    ")\n",
    "print(\"Credenciales importadas\")"
   ]
  },
  {
   "cell_type": "code",
   "execution_count": 28,
   "id": "a1119696-6bd3-4f07-9a12-f1e892e9f1f1",
   "metadata": {},
   "outputs": [
    {
     "name": "stdout",
     "output_type": "stream",
     "text": [
      "  subreddit       id                                              title  \\\n",
      "0  politics  1n43su4          Saturday Morning Political Cartoon Thread   \n",
      "1  politics  1n4u384        Trump, 79, Goes on Bizarre AI Posting Spree   \n",
      "2  politics  1n4uee7  Mike Johnson Totally Deflects When Asked About...   \n",
      "3  politics  1n4stub  Bernie Sanders endorses popular oyster farmer ...   \n",
      "4  politics  1n4svh5  Newsom Trolls Trump Over Bruised Hands and Gol...   \n",
      "\n",
      "   score  num_comments                                                url  \n",
      "0     31            64  https://www.reddit.com/r/politics/comments/1n4...  \n",
      "1  10007           792  https://www.thedailybeast.com/trump-79-goes-on...  \n",
      "2   4311           124  https://newrepublic.com/post/199857/mike-johns...  \n",
      "3   3226           174  https://www.independent.co.uk/news/world/ameri...  \n",
      "4   2566           149  https://www.thedailybeast.com/newsom-trolls-tr...  \n",
      "Se guardaron los subreddits correctamente\n"
     ]
    }
   ],
   "source": [
    "# Subreddits de interés\n",
    "subreddits = [\"politics\", \"PoliticalDiscussion\", \"worldnews\"]\n",
    "posts_data = []\n",
    "\n",
    "# Extraer posts: \n",
    "for sub in subreddits:\n",
    "    subreddit = reddit.subreddit(sub)\n",
    "    for post in subreddit.hot(limit=20):\n",
    "        posts_data.append({\n",
    "            \"subreddit\": sub,\n",
    "            \"id\": post.id,\n",
    "            \"title\": post.title,\n",
    "            \"score\": post.score,\n",
    "            \"num_comments\": post.num_comments,\n",
    "            \"url\": post.url\n",
    "        })\n",
    "\n",
    "os.makedirs(\"salida\", exist_ok=True)\n",
    "df_posts = pd.DataFrame(posts_data)\n",
    "df_posts.to_csv(\"salida/posts_redit.csv\", index=False, encoding=\"utf-8-sig\")\n",
    "print(df_posts.head())\n",
    "print(\"Se guardaron los subreddits correctamente\")"
   ]
  },
  {
   "cell_type": "code",
   "execution_count": 29,
   "id": "1d4f5087-f836-4ba4-805b-c347b257d82b",
   "metadata": {},
   "outputs": [
    {
     "name": "stdout",
     "output_type": "stream",
     "text": [
      "Se guardaron los comentarios correctamente\n"
     ]
    },
    {
     "data": {
      "text/html": [
       "<div>\n",
       "<style scoped>\n",
       "    .dataframe tbody tr th:only-of-type {\n",
       "        vertical-align: middle;\n",
       "    }\n",
       "\n",
       "    .dataframe tbody tr th {\n",
       "        vertical-align: top;\n",
       "    }\n",
       "\n",
       "    .dataframe thead th {\n",
       "        text-align: right;\n",
       "    }\n",
       "</style>\n",
       "<table border=\"1\" class=\"dataframe\">\n",
       "  <thead>\n",
       "    <tr style=\"text-align: right;\">\n",
       "      <th></th>\n",
       "      <th>post_id</th>\n",
       "      <th>comment_id</th>\n",
       "      <th>body</th>\n",
       "      <th>score</th>\n",
       "    </tr>\n",
       "  </thead>\n",
       "  <tbody>\n",
       "    <tr>\n",
       "      <th>0</th>\n",
       "      <td>1n43su4</td>\n",
       "      <td>nbi2loz</td>\n",
       "      <td>Jen Sorensen:\\n \\n[Web’s end]( https://www.dai...</td>\n",
       "      <td>28</td>\n",
       "    </tr>\n",
       "    <tr>\n",
       "      <th>1</th>\n",
       "      <td>1n43su4</td>\n",
       "      <td>nbi2h6m</td>\n",
       "      <td>Brian McFadden - [Anti-Heroes](https://www.dai...</td>\n",
       "      <td>21</td>\n",
       "    </tr>\n",
       "    <tr>\n",
       "      <th>2</th>\n",
       "      <td>1n43su4</td>\n",
       "      <td>nbi2soe</td>\n",
       "      <td>Pedro X. Molina:\\n \\n[The symbol…](https://www...</td>\n",
       "      <td>25</td>\n",
       "    </tr>\n",
       "    <tr>\n",
       "      <th>3</th>\n",
       "      <td>1n43su4</td>\n",
       "      <td>nbi6a1l</td>\n",
       "      <td>Ratt- [Who is to blame?](https://www.dailycart...</td>\n",
       "      <td>17</td>\n",
       "    </tr>\n",
       "    <tr>\n",
       "      <th>4</th>\n",
       "      <td>1n43su4</td>\n",
       "      <td>nbi3ft1</td>\n",
       "      <td>Ben Jennings\\n \\n[Back to school sale](https:/...</td>\n",
       "      <td>15</td>\n",
       "    </tr>\n",
       "  </tbody>\n",
       "</table>\n",
       "</div>"
      ],
      "text/plain": [
       "   post_id comment_id                                               body  \\\n",
       "0  1n43su4    nbi2loz  Jen Sorensen:\\n \\n[Web’s end]( https://www.dai...   \n",
       "1  1n43su4    nbi2h6m  Brian McFadden - [Anti-Heroes](https://www.dai...   \n",
       "2  1n43su4    nbi2soe  Pedro X. Molina:\\n \\n[The symbol…](https://www...   \n",
       "3  1n43su4    nbi6a1l  Ratt- [Who is to blame?](https://www.dailycart...   \n",
       "4  1n43su4    nbi3ft1  Ben Jennings\\n \\n[Back to school sale](https:/...   \n",
       "\n",
       "   score  \n",
       "0     28  \n",
       "1     21  \n",
       "2     25  \n",
       "3     17  \n",
       "4     15  "
      ]
     },
     "execution_count": 29,
     "metadata": {},
     "output_type": "execute_result"
    }
   ],
   "source": [
    "comments_data = []\n",
    "\n",
    "#Comentarios\n",
    "for post_id in df_posts[\"id\"].head(10):\n",
    "    submission = reddit.submission(id=post_id)\n",
    "    submission.comments.replace_more(limit=0)  # elimina \"MoreComments\"\n",
    "\n",
    "    for comment in submission.comments[:5]:  # solo 5 comentarios por post\n",
    "        comments_data.append({\n",
    "            \"post_id\": post_id,\n",
    "            \"comment_id\": comment.id,\n",
    "            \"body\": comment.body,\n",
    "            \"score\": comment.score\n",
    "        })\n",
    "\n",
    "df_comments = pd.DataFrame(comments_data)\n",
    "df_comments.to_csv(\"salida/comentarios_redit.csv\", index=False, encoding=\"utf-8-sig\")\n",
    "\n",
    "df_comments.head()\n",
    "print(\"Se guardaron los comentarios correctamente\")\n"
   ]
  },
  {
   "cell_type": "code",
   "execution_count": null,
   "id": "e38c868c-4a26-42f6-bfad-3093d52d50c8",
   "metadata": {},
   "outputs": [],
   "source": []
  }
 ],
 "metadata": {
  "kernelspec": {
   "display_name": "Python [conda env:anaconda3-yelp_scraper]",
   "language": "python",
   "name": "conda-env-anaconda3-yelp_scraper-py"
  },
  "language_info": {
   "codemirror_mode": {
    "name": "ipython",
    "version": 3
   },
   "file_extension": ".py",
   "mimetype": "text/x-python",
   "name": "python",
   "nbconvert_exporter": "python",
   "pygments_lexer": "ipython3",
   "version": "3.10.18"
  }
 },
 "nbformat": 4,
 "nbformat_minor": 5
}
